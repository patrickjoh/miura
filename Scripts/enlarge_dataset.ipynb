{
 "cells": [
  {
   "cell_type": "code",
   "execution_count": null,
   "metadata": {},
   "outputs": [],
   "source": [
    "import pandas as pd\n",
    "\n",
    "def enlarge_dataset(file_path, duplication_factor):\n",
    "    \"\"\"\n",
    "    Enlarges the dataset by duplicating and adjusting the timestamps.\n",
    "    \n",
    "    Parameters:\n",
    "    - file_path: Path to the original CSV dataset.\n",
    "    - duplication_factor: How many times the dataset should be duplicated.\n",
    "    \"\"\"\n",
    "    # Load and prepare the original dataset\n",
    "    data = pd.read_csv(file_path)\n",
    "    data['timestamp'] = pd.to_datetime(data['timestamp'])\n",
    "    \n",
    "    # Calculate the offset to apply for each duplication\n",
    "    offset_duration = data['timestamp'].iloc[-1] - data['timestamp'].iloc[0] + pd.Timedelta(minutes=5)\n",
    "    \n",
    "    # Create duplicates with adjusted timestamps\n",
    "    datasets = [\n",
    "        data.assign(timestamp=data['timestamp'] + offset_duration * i)\n",
    "        for i in range(duplication_factor)\n",
    "    ]\n",
    "    \n",
    "    # Combine all datasets into one and reset the index\n",
    "    enlarged_dataset = pd.concat(datasets).reset_index(drop=True)\n",
    "    \n",
    "    # Save the enlarged dataset\n",
    "    enlarged_dataset_file_path = f'enlarged_{file_path}'\n",
    "    enlarged_dataset.to_csv(enlarged_dataset_file_path, index=False)\n",
    "    \n",
    "    return enlarged_dataset_file_path\n",
    "\n",
    "# Example usage\n",
    "file_path = 'ec2_cpu_utilization_825cc2.csv'  # Update this path to your actual file location\n",
    "duplication_factor = 3  # Specify how many times you want to duplicate the dataset\n",
    "enlarged_dataset_file_path = enlarge_dataset(file_path, duplication_factor)\n",
    "print(f'Enlarged dataset saved to: {enlarged_dataset_file_path}')"
   ]
  }
 ],
 "metadata": {
  "kernelspec": {
   "display_name": "PyTorch",
   "language": "python",
   "name": "python3"
  },
  "language_info": {
   "codemirror_mode": {
    "name": "ipython",
    "version": 3
   },
   "file_extension": ".py",
   "mimetype": "text/x-python",
   "name": "python",
   "nbconvert_exporter": "python",
   "pygments_lexer": "ipython3"
  }
 },
 "nbformat": 4,
 "nbformat_minor": 2
}
