{
 "cells": [
  {
   "cell_type": "code",
   "execution_count": null,
   "metadata": {},
   "outputs": [],
   "source": [
    "# Print dataframe of results\n",
    "from influxdb_client import InfluxDBClient\n",
    "\n",
    "influxdb_url = \"http://localhost:8086\"\n",
    "token = \"random_token\"\n",
    "username = \"influx-admin\"\n",
    "password = \"ThisIsNotThePasswordYouAreLookingFor\"\n",
    "org = \"ORG\"\n",
    "bucket = \"anomalies\"\n",
    "measurement = \"base_result-CC2-MinMax\"\n",
    "limit = 20\n",
    "\n",
    "# Instantiate the QueryAPI\n",
    "client = InfluxDBClient(url=influxdb_url, token=token, org=org, username=username, password=password)\n",
    "query_api = client.query_api()\n",
    "\n",
    "start_time = \"2014-04-10T00:00:00Z\"\n",
    "\n",
    "# Construct the Flux query\n",
    "query = f'''\n",
    "from(bucket: \"{bucket}\")\n",
    "    |> range(start: time(v: \"{start_time}\"))\n",
    "    |> filter(fn: (r) => r[\"_measurement\"] == \"{measurement}\")\n",
    "    |> limit(n: {limit})\n",
    "    |> pivot(rowKey:[\"_time\"], columnKey: [\"_field\"], valueColumn: \"_value\")\n",
    "'''\n",
    "\n",
    "# Query the data\n",
    "result_df = query_api.query_data_frame(query=query)\n",
    "\n",
    "\n",
    "# If not empty\n",
    "if not result_df.empty:\n",
    "    # Convert 'T' to type integer\n",
    "    result_df['T'] = result_df['T'].astype(int)\n",
    "\n",
    "    # Rename the columns and display the result\n",
    "    result_df.rename(columns={'_time': 'time', '_measurement': 'measurement'}, inplace=True)\n",
    "\n",
    "    # Include 'AARE' and 'Thd' if they exist, else, ignore\n",
    "    selected_columns = ['time', 'measurement', 'T', 'actual_value', 'predicted_value']\n",
    "    selected_columns += ['AARE', 'Thd'] if 'AARE' in result_df.columns and 'Thd' in result_df.columns else []\n",
    "\n",
    "    # If the result is not empty, select the columns we're interested in and rename them for clarity\n",
    "    result_df = result_df[selected_columns]\n",
    "else:\n",
    "    print(\"No data found\")\n",
    "\n",
    "# Display the result\n",
    "result_df\n"
   ]
  }
 ],
 "metadata": {
  "kernelspec": {
   "display_name": "PyTorch",
   "language": "python",
   "name": "python3"
  },
  "language_info": {
   "codemirror_mode": {
    "name": "ipython",
    "version": 3
   },
   "file_extension": ".py",
   "mimetype": "text/x-python",
   "name": "python",
   "nbconvert_exporter": "python",
   "pygments_lexer": "ipython3",
   "version": "3.11.7"
  }
 },
 "nbformat": 4,
 "nbformat_minor": 2
}
