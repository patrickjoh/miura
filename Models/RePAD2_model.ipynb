{
 "cells": [
  {
   "cell_type": "code",
   "execution_count": 61,
   "metadata": {},
   "outputs": [],
   "source": [
    "from LSTM_model import LSTM\n",
    "import numpy as np\n",
    "import random\n",
    "import torch\n"
   ]
  },
  {
   "cell_type": "code",
   "execution_count": 62,
   "metadata": {},
   "outputs": [],
   "source": [
    "# Setting random seed for reproducibility\n",
    "torch.manual_seed(140)\n",
    "np.random.seed(140)\n",
    "random.seed(140)"
   ]
  },
  {
   "cell_type": "code",
   "execution_count": 63,
   "metadata": {},
   "outputs": [
    {
     "name": "stdout",
     "output_type": "stream",
     "text": [
      "Epoch [0/50], Loss: 0.698601245880127\n",
      "Epoch [5/50], Loss: 0.6125347018241882\n",
      "Epoch [10/50], Loss: 0.5236238241195679\n",
      "Epoch [15/50], Loss: 0.42602625489234924\n",
      "Epoch [20/50], Loss: 0.307224303483963\n",
      "Epoch [25/50], Loss: 0.1728971004486084\n",
      "Epoch [30/50], Loss: 0.06459332257509232\n",
      "Epoch [35/50], Loss: 0.006195520982146263\n",
      "Epoch [40/50], Loss: 0.006384280975908041\n",
      "Epoch [45/50], Loss: 0.018704555928707123\n",
      "Prediction: 37.508575439453125\n"
     ]
    }
   ],
   "source": [
    "# Simulate data \n",
    "x_values = torch.tensor([1, 2, 3], dtype=torch.float32).view(-1, 1, 1)\n",
    "y_values = torch.tensor([10, 20, 30], dtype=torch.float32).view(-1, 1, 1)\n",
    "\n",
    "# Create an instance of the LSTM model\n",
    "model = LSTM(x_values, y_values, input_size=1, hidden_size=10, num_layers=1, output_size=1, batch_size=3, num_epochs=50, learning_rate=0.01)\n",
    "model.train_model() # Train the model\n",
    "\n",
    "# Get a prediction\n",
    "x_test = torch.tensor([4], dtype=torch.float32).view(-1, 1, 1)\n",
    "x_test = model.transform(x_test)\n",
    "y_pred = model(x_test)\n",
    "y_pred_orig = model.inverse_transform_y(y_pred)\n",
    "\n",
    "print(f'Prediction: {y_pred_orig.item()}')  # Prediction: 40.0"
   ]
  },
  {
   "cell_type": "code",
   "execution_count": null,
   "metadata": {},
   "outputs": [],
   "source": []
  }
 ],
 "metadata": {
  "kernelspec": {
   "display_name": "PyTorch",
   "language": "python",
   "name": "python3"
  },
  "language_info": {
   "codemirror_mode": {
    "name": "ipython",
    "version": 3
   },
   "file_extension": ".py",
   "mimetype": "text/x-python",
   "name": "python",
   "nbconvert_exporter": "python",
   "pygments_lexer": "ipython3",
   "version": "3.11.7"
  }
 },
 "nbformat": 4,
 "nbformat_minor": 2
}
