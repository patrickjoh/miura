{
 "cells": [
  {
   "cell_type": "code",
   "execution_count": null,
   "metadata": {},
   "outputs": [],
   "source": [
    "import torch\n",
    "import torch.nn as nn\n",
    "import torch.optim as optim\n",
    "import torch.utils.data as data\n",
    "import numpy as np\n",
    "import random\n",
    "import matplotlib.pyplot as plt\n",
    "import pandas as pd\n",
    "from sklearn.preprocessing import MinMaxScaler\n"
   ]
  },
  {
   "cell_type": "code",
   "execution_count": null,
   "metadata": {},
   "outputs": [],
   "source": [
    "# Setting random seed for reproducibility\n",
    "torch.manual_seed(140)\n",
    "np.random.seed(140)\n",
    "random.seed(140)"
   ]
  },
  {
   "cell_type": "code",
   "execution_count": null,
   "metadata": {},
   "outputs": [],
   "source": [
    "\n",
    "\"\"\"\n",
    "# Load data\n",
    "x_values = torch.tensor([1, 2, 3]) # X values\n",
    "y_values = torch.tensor([20, 30, 40]) # Y values\n",
    "\n",
    "x_values_np = x_values.numpy()\n",
    "y_values_np = y_values.numpy()\n",
    "\n",
    "# Plot data\n",
    "plt.plot(x_values_np, y_values_np)\n",
    "plt.xlabel('Time')\n",
    "plt.ylabel('Values')\n",
    "plt.title('Values over time')\n",
    "plt.show()\n",
    "\n",
    "\"\"\"\n"
   ]
  },
  {
   "cell_type": "code",
   "execution_count": null,
   "metadata": {},
   "outputs": [],
   "source": [
    "# Simulate data \n",
    "x_values = torch.tensor([1, 2, 3], dtype=torch.float32).view(-1, 1, 1) # X values\n",
    "y_values = x_values * 10 # Y values\n",
    "\n",
    "# Print shapes\n",
    "print(x_values.shape, x_values.shape)"
   ]
  },
  {
   "cell_type": "code",
   "execution_count": null,
   "metadata": {},
   "outputs": [],
   "source": [
    "# Define the LSTM model\n",
    "class SimpleLSTM(nn.Module):\n",
    "    def __init__(self):\n",
    "        super().__init__()\n",
    "        self.lstm = nn.LSTM(input_size=1, hidden_size=10, num_layers=1, batch_first=True)\n",
    "        self.linear = nn.Linear(10, 1)\n",
    "    \n",
    "    def forward(self, x):\n",
    "        x, _ = self.lstm(x)\n",
    "        # Extract only the last timestep's output for prediction\n",
    "       # x = x[:, -1, :]\n",
    "        x = self.linear(x[:, -1, :])\n",
    "        return x\n",
    "    \n",
    "# Define the GRU model\n",
    "class SimpleGRU(nn.Module):\n",
    "    def __init__(self):\n",
    "        super().__init__()\n",
    "        self.gru = nn.GRU(input_size=1, hidden_size=10, num_layers=1, batch_first=True)\n",
    "        self.linear = nn.Linear(10, 1)\n",
    "    \n",
    "    def forward(self, x):\n",
    "        x, _ = self.gru(x)\n",
    "        # Extract only the last timestep's output for prediction\n",
    "       # x = x[:, -1, :]\n",
    "        x = self.linear(x[:, -1, :])\n",
    "        return x "
   ]
  },
  {
   "cell_type": "code",
   "execution_count": null,
   "metadata": {},
   "outputs": [],
   "source": [
    "# Initialize the model\n",
    "model = SimpleLSTM()\n",
    "#model = SimpleGRU()\n",
    "optimizer = optim.SGD(model.parameters(), lr=0.05)\n",
    "loss_fn = nn.MSELoss()\n",
    "\n",
    "\n",
    "# Train the model\n",
    "epochs = 100\n",
    "for epoch in range(epochs):\n",
    "    model.train()\n",
    "    optimizer.zero_grad()\n",
    "    output = model(x_values)\n",
    "    loss = loss_fn(output, y_values.view(-1, 1))\n",
    "    loss.backward()\n",
    "    optimizer.step()\n",
    "    \n",
    "    if epoch % 5 == 0:\n",
    "        print(f'Epoch [{epoch}/{epochs}], Loss: {loss.item()}')\n",
    "\n",
    "\n",
    "model.eval()\n",
    "with torch.no_grad():\n",
    "    predictions = model(x_values) \n",
    "    print(f\"Predictions: {predictions.view(-1).numpy()}\")\n",
    "    print(f\"Actual: {y_values.view(-1).numpy()}\")\n",
    "\n",
    "# Visualizing the results\n",
    "plt.figure(figsize=(10, 5))\n",
    "plt.plot(x_values.numpy().flatten(), y_values.numpy().flatten(), 'bo-', label='Actual')\n",
    "plt.plot(x_values.numpy().flatten(), predictions.numpy().flatten(), 'ro-', label='Predicted')\n",
    "plt.title('LSTM Predictions vs Actual')\n",
    "plt.xlabel('X Value')\n",
    "plt.ylabel('Y Value')\n",
    "plt.legend()\n",
    "\n",
    "\n"
   ]
  },
  {
   "cell_type": "code",
   "execution_count": null,
   "metadata": {},
   "outputs": [],
   "source": [
    "\n"
   ]
  }
 ],
 "metadata": {
  "kernelspec": {
   "display_name": "PyTorch",
   "language": "python",
   "name": "python3"
  },
  "language_info": {
   "codemirror_mode": {
    "name": "ipython",
    "version": 3
   },
   "file_extension": ".py",
   "mimetype": "text/x-python",
   "name": "python",
   "nbconvert_exporter": "python",
   "pygments_lexer": "ipython3",
   "version": "3.11.7"
  }
 },
 "nbformat": 4,
 "nbformat_minor": 2
}
